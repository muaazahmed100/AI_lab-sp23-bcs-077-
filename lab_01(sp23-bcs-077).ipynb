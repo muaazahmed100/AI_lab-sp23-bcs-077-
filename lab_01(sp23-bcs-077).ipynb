{
  "nbformat": 4,
  "nbformat_minor": 0,
  "metadata": {
    "colab": {
      "provenance": []
    },
    "kernelspec": {
      "name": "python3",
      "display_name": "Python 3"
    },
    "language_info": {
      "name": "python"
    }
  },
  "cells": [
    {
      "cell_type": "markdown",
      "source": [
        "Activity 1"
      ],
      "metadata": {
        "id": "J5KKzBDjxO1t"
      }
    },
    {
      "cell_type": "code",
      "execution_count": 4,
      "metadata": {
        "colab": {
          "base_uri": "https://localhost:8080/"
        },
        "id": "ecFB5OpDu2AK",
        "outputId": "75aaecdc-8af5-438d-8573-4f77474ba90e"
      },
      "outputs": [
        {
          "output_type": "stream",
          "name": "stdout",
          "text": [
            "Enter a number1\n",
            "Enter a number2\n",
            "Enter a number3\n",
            "Enter a number0\n",
            "sum of all given values is  6\n"
          ]
        }
      ],
      "source": [
        "\n",
        "n = input(\"Enter a number\")\n",
        "n = int(n)\n",
        "if (n%2==0):\n",
        "    print(\"it is even number\")\n",
        "else:\n",
        "        print(\"not even\")"
      ]
    },
    {
      "cell_type": "markdown",
      "source": [
        "Activity 2"
      ],
      "metadata": {
        "id": "g5z4v-zSw2hG"
      }
    },
    {
      "cell_type": "code",
      "source": [
        "sum = 0\n",
        "n = int(input(\"Enter a number\"))\n",
        "while n!=0:\n",
        "  sum = sum+n\n",
        "  n = int(input(\"Enter a number\"))\n",
        "print(\"sum of all given values is \",sum)\n"
      ],
      "metadata": {
        "id": "ikAx_DO3w7xt"
      },
      "execution_count": null,
      "outputs": []
    },
    {
      "cell_type": "markdown",
      "source": [
        "Activity 3"
      ],
      "metadata": {
        "id": "g9awEAVSxEIl"
      }
    },
    {
      "cell_type": "code",
      "source": [
        "isPrime = True\n",
        "i = 2\n",
        "n = int(input(\"Enter a number\"))\n",
        "while i<n:\n",
        "  remainder = n%i\n",
        "  if remainder == 0:\n",
        "    isPrime = False\n",
        "    break\n",
        "  else:\n",
        "    i = i+1\n",
        "if isPrime:\n",
        "  print(\"Number is prime\")\n",
        "else :\n",
        "  print(\"Number is not prime\")"
      ],
      "metadata": {
        "colab": {
          "base_uri": "https://localhost:8080/"
        },
        "id": "mrAn9oD4xI3N",
        "outputId": "0099c2bd-445e-422b-d8e6-d39941259bae"
      },
      "execution_count": 5,
      "outputs": [
        {
          "output_type": "stream",
          "name": "stdout",
          "text": [
            "Enter a number6\n",
            "Number is not prime\n"
          ]
        }
      ]
    },
    {
      "cell_type": "markdown",
      "source": [
        "Activity 4\n"
      ],
      "metadata": {
        "id": "G5ZtAhRRxt0c"
      }
    },
    {
      "cell_type": "code",
      "source": [
        "summ = 0\n",
        "i = 0\n",
        "while i <= 4:\n",
        "  s = input(\"Enter a number\")\n",
        "  n = int(s)\n",
        "  summ = summ+n\n",
        "  i = i+1\n",
        "print(\"sum is :\",summ)"
      ],
      "metadata": {
        "colab": {
          "base_uri": "https://localhost:8080/"
        },
        "id": "3iB4NRHexxEr",
        "outputId": "9b2de821-10d5-4e62-b0f5-0fe1ec802311"
      },
      "execution_count": 6,
      "outputs": [
        {
          "output_type": "stream",
          "name": "stdout",
          "text": [
            "Enter a number1\n",
            "Enter a number2\n",
            "Enter a number3\n",
            "Enter a number4\n",
            "Enter a number5\n",
            "sum is : 15\n"
          ]
        }
      ]
    },
    {
      "cell_type": "markdown",
      "source": [
        "Activity 5"
      ],
      "metadata": {
        "id": "2ke0V5Yiy1Lw"
      }
    },
    {
      "cell_type": "code",
      "source": [
        "sum = 0\n",
        "i = 1\n",
        "while i < 11:\n",
        "  sum = sum+i\n",
        "  i=i+1\n",
        "print(\"The sum of all values is \",sum)"
      ],
      "metadata": {
        "colab": {
          "base_uri": "https://localhost:8080/"
        },
        "id": "5g5xF7Eky4Zv",
        "outputId": "9a119342-fab5-4e84-fd29-e2b37d8a841f"
      },
      "execution_count": 9,
      "outputs": [
        {
          "output_type": "stream",
          "name": "stdout",
          "text": [
            "The sum of all values is  55\n"
          ]
        }
      ]
    },
    {
      "cell_type": "markdown",
      "source": [
        "Activity 7"
      ],
      "metadata": {
        "id": "BUc-S5QJ1769"
      }
    },
    {
      "cell_type": "code",
      "source": [
        "import random\n",
        "\n",
        "MINIMUM = 1\n",
        "MAXIMUM = 9\n",
        "NUMBER = random.randint(MINIMUM, MAXIMUM)\n",
        "GUESS = None\n",
        "ANOTHER = None\n",
        "TRY = 0\n",
        "RUNNING = True\n",
        "print(\"Alright...\")\n",
        "\n",
        "while RUNNING:\n",
        "    GUESS = input(\"What is your lucky number? \")\n",
        "\n",
        "    # Check if user wants to exit\n",
        "    if GUESS.lower() == \"exit\":\n",
        "        print(\"Better luck next time.\")\n",
        "        break\n",
        "\n",
        "    try:\n",
        "        GUESS = int(GUESS)\n",
        "\n",
        "        if GUESS < NUMBER:\n",
        "            print(\"Wrong, too low.\")\n",
        "        elif GUESS > NUMBER:\n",
        "            print(\"Wrong, too high.\")\n",
        "        elif GUESS == NUMBER:\n",
        "            print(f\"Yes, that's the one, {NUMBER}.\")\n",
        "            if TRY < 2:\n",
        "                print(f\"Impressive, only {TRY} tries.\")\n",
        "            elif 2 <= TRY < 10:\n",
        "                print(f\"Pretty good, {TRY} tries.\")\n",
        "            else:\n",
        "                print(f\"Bad, {TRY} tries.\")\n",
        "            RUNNING = False\n",
        "\n",
        "        TRY += 1\n",
        "\n",
        "    except ValueError:\n",
        "        print(\"Please enter a valid number.\")\n"
      ],
      "metadata": {
        "id": "f_K5h3BH1-pO"
      },
      "execution_count": null,
      "outputs": []
    },
    {
      "cell_type": "markdown",
      "source": [
        "Graded Lab Activity 1"
      ],
      "metadata": {
        "id": "D875NCav6W96"
      }
    },
    {
      "cell_type": "code",
      "source": [
        "number = int(input())\n",
        "reversed_number = 0\n",
        "\n",
        "while number > 0:\n",
        "    reversed_number = reversed_number * 10 + number % 10\n",
        "    number = number // 10\n",
        "\n",
        "print(reversed_number)\n"
      ],
      "metadata": {
        "colab": {
          "base_uri": "https://localhost:8080/"
        },
        "id": "EOTfOpeB6ZsZ",
        "outputId": "d76e2136-440c-4bd0-af9f-b45abfad4c13"
      },
      "execution_count": 10,
      "outputs": [
        {
          "output_type": "stream",
          "name": "stdout",
          "text": [
            "1234\n",
            "4321\n"
          ]
        }
      ]
    },
    {
      "cell_type": "markdown",
      "source": [
        "Graded Lab Activity 2"
      ],
      "metadata": {
        "id": "wvyj5Zz562QJ"
      }
    },
    {
      "cell_type": "code",
      "source": [
        "numbers = input().split()\n",
        "even_sum = 0\n",
        "odd_sum = 0\n",
        "\n",
        "for num in numbers:\n",
        "    num = int(num)\n",
        "    if num % 2 == 0:\n",
        "        even_sum += num\n",
        "    else:\n",
        "        odd_sum += num\n",
        "\n",
        "print(\"Even sum:\", even_sum)\n",
        "print(\"Odd sum:\", odd_sum)\n"
      ],
      "metadata": {
        "id": "HkPQU4UC65-o"
      },
      "execution_count": null,
      "outputs": []
    },
    {
      "cell_type": "markdown",
      "source": [
        "Graded Lab Activity 3"
      ],
      "metadata": {
        "id": "ftx_MiCZ7MzJ"
      }
    },
    {
      "cell_type": "code",
      "source": [
        "# With loop\n",
        "n = int(input())\n",
        "a, b = 0, 1\n",
        "for _ in range(n):\n",
        "    print(a, end=\" \")\n",
        "    a, b = b, a + b\n"
      ],
      "metadata": {
        "colab": {
          "base_uri": "https://localhost:8080/"
        },
        "id": "wE4CTXwr7OWA",
        "outputId": "004c1bb5-783f-4681-b2ad-4f232b0031a2"
      },
      "execution_count": 12,
      "outputs": [
        {
          "output_type": "stream",
          "name": "stdout",
          "text": [
            "6\n",
            "0 1 1 2 3 5 "
          ]
        }
      ]
    },
    {
      "cell_type": "code",
      "source": [
        "# With recursion\n",
        "def fibonacci(n, a=0, b=1):\n",
        "    if n > 0:\n",
        "        print(a, end=\" \")\n",
        "        fibonacci(n-1, b, a+b)\n",
        "\n",
        "n = int(input())\n",
        "fibonacci(n)\n"
      ],
      "metadata": {
        "colab": {
          "base_uri": "https://localhost:8080/"
        },
        "id": "aBaAyAq_7kYo",
        "outputId": "469b45ad-5528-4b79-d8b2-696071251379"
      },
      "execution_count": 13,
      "outputs": [
        {
          "output_type": "stream",
          "name": "stdout",
          "text": [
            "6\n",
            "0 1 1 2 3 5 "
          ]
        }
      ]
    },
    {
      "cell_type": "markdown",
      "source": [
        "Graded Lab Activity 4"
      ],
      "metadata": {
        "id": "XxBaYxii8TRT"
      }
    },
    {
      "cell_type": "code",
      "source": [
        "marks = int(input())\n",
        "if marks < 50:\n",
        "    print(\"Grade F\")\n",
        "elif marks <= 60:\n",
        "    print(\"Grade E\")\n",
        "elif marks <= 70:\n",
        "    print(\"Grade D\")\n",
        "elif marks <= 80:\n",
        "    print(\"Grade C\")\n",
        "elif marks <= 90:\n",
        "    print(\"Grade B\")\n",
        "else:\n",
        "    print(\"Grade A\")\n"
      ],
      "metadata": {
        "colab": {
          "base_uri": "https://localhost:8080/"
        },
        "id": "dCsc1_D98WNn",
        "outputId": "41d703fd-6963-4019-d6bc-c1fbabe3a9a7"
      },
      "execution_count": 14,
      "outputs": [
        {
          "output_type": "stream",
          "name": "stdout",
          "text": [
            "85\n",
            "Grade B\n"
          ]
        }
      ]
    },
    {
      "cell_type": "markdown",
      "source": [
        "Graded Lab Activity 5"
      ],
      "metadata": {
        "id": "rKmlEM3o8e8H"
      }
    },
    {
      "cell_type": "code",
      "source": [
        "n = int(input())\n",
        "factorial = 1\n",
        "for i in range(1, n+1):\n",
        "    factorial *= i\n",
        "print(factorial)\n"
      ],
      "metadata": {
        "colab": {
          "base_uri": "https://localhost:8080/"
        },
        "id": "HESeZLfF8h8V",
        "outputId": "8cdfcfd1-8ba9-4c68-9ff3-d0182dc43bf1"
      },
      "execution_count": 15,
      "outputs": [
        {
          "output_type": "stream",
          "name": "stdout",
          "text": [
            "4\n",
            "24\n"
          ]
        }
      ]
    }
  ]
}